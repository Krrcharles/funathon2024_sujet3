{
 "cells": [
  {
   "cell_type": "code",
   "execution_count": 3,
   "metadata": {},
   "outputs": [],
   "source": [
    "from FlightRadar24 import FlightRadar24API\n",
    "fr_api = FlightRadar24API()"
   ]
  },
  {
   "cell_type": "code",
   "execution_count": 10,
   "metadata": {},
   "outputs": [
    {
     "data": {
      "text/plain": [
       "2145"
      ]
     },
     "execution_count": 10,
     "metadata": {},
     "output_type": "execute_result"
    }
   ],
   "source": [
    "airlines = fr_api.get_airlines()\n",
    "\n",
    "nbr_compagnie = len(airlines)\n",
    "nbr_compagnie"
   ]
  },
  {
   "cell_type": "code",
   "execution_count": 48,
   "metadata": {},
   "outputs": [
    {
     "data": {
      "text/plain": [
       "{'europe': {'tl_y': 72.57,\n",
       "  'tl_x': -16.96,\n",
       "  'br_y': 33.57,\n",
       "  'br_x': 53.05,\n",
       "  'subzones': {'poland': {'tl_y': 56.86,\n",
       "    'tl_x': 11.06,\n",
       "    'br_y': 48.22,\n",
       "    'br_x': 28.26},\n",
       "   'germany': {'tl_y': 57.92, 'tl_x': 1.81, 'br_y': 45.81, 'br_x': 16.83},\n",
       "   'uk': {'tl_y': 62.61,\n",
       "    'tl_x': -13.07,\n",
       "    'br_y': 49.71,\n",
       "    'br_x': 3.46,\n",
       "    'subzones': {'london': {'tl_y': 53.06,\n",
       "      'tl_x': -2.87,\n",
       "      'br_y': 50.07,\n",
       "      'br_x': 3.26},\n",
       "     'ireland': {'tl_y': 56.22, 'tl_x': -11.71, 'br_y': 50.91, 'br_x': -4.4}}},\n",
       "   'spain': {'tl_y': 44.36, 'tl_x': -11.06, 'br_y': 35.76, 'br_x': 4.04},\n",
       "   'france': {'tl_y': 51.07, 'tl_x': -5.18, 'br_y': 42.17, 'br_x': 8.9},\n",
       "   'ceur': {'tl_y': 51.39, 'tl_x': 11.25, 'br_y': 39.72, 'br_x': 32.55},\n",
       "   'scandinavia': {'tl_y': 72.12, 'tl_x': -0.73, 'br_y': 53.82, 'br_x': 40.67},\n",
       "   'italy': {'tl_y': 47.67, 'tl_x': 5.26, 'br_y': 36.27, 'br_x': 20.64}}},\n",
       " 'northamerica': {'tl_y': 75,\n",
       "  'tl_x': -180,\n",
       "  'br_y': 3,\n",
       "  'br_x': -52,\n",
       "  'subzones': {'na_n': {'tl_y': 72.82,\n",
       "    'tl_x': -177.97,\n",
       "    'br_y': 41.92,\n",
       "    'br_x': -52.48},\n",
       "   'na_c': {'tl_y': 54.66,\n",
       "    'tl_x': -134.68,\n",
       "    'br_y': 22.16,\n",
       "    'br_x': -56.91,\n",
       "    'subzones': {'na_cny': {'tl_y': 45.06,\n",
       "      'tl_x': -83.69,\n",
       "      'br_y': 35.96,\n",
       "      'br_x': -64.29},\n",
       "     'na_cla': {'tl_y': 37.91,\n",
       "      'tl_x': -126.12,\n",
       "      'br_y': 30.21,\n",
       "      'br_x': -110.02},\n",
       "     'na_cat': {'tl_y': 35.86, 'tl_x': -92.61, 'br_y': 22.56, 'br_x': -71.19},\n",
       "     'na_cse': {'tl_y': 49.12,\n",
       "      'tl_x': -126.15,\n",
       "      'br_y': 42.97,\n",
       "      'br_x': -111.92},\n",
       "     'na_nw': {'tl_y': 54.12, 'tl_x': -134.13, 'br_y': 38.32, 'br_x': -96.75},\n",
       "     'na_ne': {'tl_y': 53.72, 'tl_x': -98.76, 'br_y': 38.22, 'br_x': -57.36},\n",
       "     'na_sw': {'tl_y': 38.92, 'tl_x': -133.98, 'br_y': 22.62, 'br_x': -96.75},\n",
       "     'na_se': {'tl_y': 38.52, 'tl_x': -98.62, 'br_y': 22.52, 'br_x': -57.36},\n",
       "     'na_cc': {'tl_y': 45.92,\n",
       "      'tl_x': -116.88,\n",
       "      'br_y': 27.62,\n",
       "      'br_x': -75.91}}},\n",
       "   'na_s': {'tl_y': 41.92, 'tl_x': -177.83, 'br_y': 3.82, 'br_x': -52.48}}},\n",
       " 'southamerica': {'tl_y': 16, 'tl_x': -96, 'br_y': -57, 'br_x': -31},\n",
       " 'oceania': {'tl_y': 19.62, 'tl_x': 88.4, 'br_y': -55.08, 'br_x': 180},\n",
       " 'asia': {'tl_y': 79.98,\n",
       "  'tl_x': 40.91,\n",
       "  'br_y': 12.48,\n",
       "  'br_x': 179.77,\n",
       "  'subzones': {'japan': {'tl_y': 60.38,\n",
       "    'tl_x': 113.5,\n",
       "    'br_y': 22.58,\n",
       "    'br_x': 176.47}}},\n",
       " 'africa': {'tl_y': 39, 'tl_x': -29, 'br_y': -39, 'br_x': 55},\n",
       " 'atlantic': {'tl_y': 52.62, 'tl_x': -50.9, 'br_y': 15.62, 'br_x': -4.75},\n",
       " 'maldives': {'tl_y': 10.72, 'tl_x': 63.1, 'br_y': -6.08, 'br_x': 86.53},\n",
       " 'northatlantic': {'tl_y': 82.62, 'tl_x': -84.53, 'br_y': 59.02, 'br_x': 4.45}}"
      ]
     },
     "execution_count": 48,
     "metadata": {},
     "output_type": "execute_result"
    }
   ],
   "source": [
    "zones = fr_api.get_zones()\n",
    "zones"
   ]
  },
  {
   "cell_type": "code",
   "execution_count": 71,
   "metadata": {},
   "outputs": [
    {
     "name": "stdout",
     "output_type": "stream",
     "text": [
      "12\n"
     ]
    },
    {
     "data": {
      "text/plain": [
       "[<(B77W) F-GZNH - Altitude: 38000 - Ground Speed: 486 - Heading: 26>,\n",
       " <(B77W) F-GSQT - Altitude: 37000 - Ground Speed: 456 - Heading: 118>,\n",
       " <(B77W) F-GZNN - Altitude: 37000 - Ground Speed: 463 - Heading: 89>,\n",
       " <(B77W) F-GZNC - Altitude: 32000 - Ground Speed: 517 - Heading: 317>,\n",
       " <(B77W) F-GZNA - Altitude: 32000 - Ground Speed: 508 - Heading: 330>,\n",
       " <(B77W) F-GSQU - Altitude: 29125 - Ground Speed: 503 - Heading: 273>,\n",
       " <(B77W) F-GZNS - Altitude: 29000 - Ground Speed: 452 - Heading: 92>,\n",
       " <(B77W) F-GSQM - Altitude: 19400 - Ground Speed: 420 - Heading: 255>,\n",
       " <(B77W) F-GZNE - Altitude: 14125 - Ground Speed: 330 - Heading: 335>,\n",
       " <(B77W) F-GZNL - Altitude: 8825 - Ground Speed: 246 - Heading: 85>,\n",
       " <(B77W) F-GSQJ - Altitude: 1150 - Ground Speed: 146 - Heading: 85>,\n",
       " <(B77W) F-GZNF - Altitude: 0 - Ground Speed: 0 - Heading: 92>]"
      ]
     },
     "execution_count": 71,
     "metadata": {},
     "output_type": "execute_result"
    }
   ],
   "source": [
    "airline_icao = \"AFR\"\n",
    "aircraft_type = \"B77W\"\n",
    "zone = fr_api.get_zones()[\"europe\"]\n",
    "bounds = fr_api.get_bounds(zone)\n",
    "\n",
    "flights_airfrance_77W = fr_api.get_flights(aircraft_type = aircraft_type, airline = airline_icao, bounds=bounds )\n",
    "print(len(flights_airfrance_77W))\n",
    "flights_airfrance_77W\n"
   ]
  },
  {
   "cell_type": "code",
   "execution_count": 76,
   "metadata": {},
   "outputs": [],
   "source": [
    "fr_api.get_flight_tracker_config()\n",
    "fr_api.set_flight_tracker_config(limit = '5')"
   ]
  },
  {
   "cell_type": "code",
   "execution_count": 77,
   "metadata": {},
   "outputs": [
    {
     "data": {
      "text/plain": [
       "[<(BALL) N251TH - Altitude: 62200 - Ground Speed: 10 - Heading: 180>,\n",
       " <(BALL) N871TH - Altitude: 52100 - Ground Speed: 8 - Heading: 209>,\n",
       " <(BALL) N252TH - Altitude: 55700 - Ground Speed: 10 - Heading: 338>,\n",
       " <(B77L) N888FD - Altitude: 0 - Ground Speed: 0 - Heading: 278>,\n",
       " <(GLID) D-KPUI - Altitude: 2542 - Ground Speed: 0 - Heading: 89>]"
      ]
     },
     "execution_count": 77,
     "metadata": {},
     "output_type": "execute_result"
    }
   ],
   "source": [
    "fr_api.get_flights()"
   ]
  },
  {
   "cell_type": "code",
   "execution_count": 91,
   "metadata": {},
   "outputs": [],
   "source": [
    "flight = fr_api.get_flights()[0]\n",
    "flight_details = fr_api.get_flight_details(flight)\n",
    "flight.set_flight_details(flight_details)"
   ]
  },
  {
   "cell_type": "code",
   "execution_count": 92,
   "metadata": {},
   "outputs": [
    {
     "data": {
      "text/plain": [
       "['_Flight__get_info',\n",
       " '__abstractmethods__',\n",
       " '__class__',\n",
       " '__delattr__',\n",
       " '__dict__',\n",
       " '__dir__',\n",
       " '__doc__',\n",
       " '__eq__',\n",
       " '__format__',\n",
       " '__ge__',\n",
       " '__getattribute__',\n",
       " '__getstate__',\n",
       " '__gt__',\n",
       " '__hash__',\n",
       " '__init__',\n",
       " '__init_subclass__',\n",
       " '__le__',\n",
       " '__lt__',\n",
       " '__module__',\n",
       " '__ne__',\n",
       " '__new__',\n",
       " '__reduce__',\n",
       " '__reduce_ex__',\n",
       " '__repr__',\n",
       " '__setattr__',\n",
       " '__sizeof__',\n",
       " '__slots__',\n",
       " '__str__',\n",
       " '__subclasshook__',\n",
       " '__weakref__',\n",
       " '_abc_impl',\n",
       " '_default_text',\n",
       " 'aircraft_age',\n",
       " 'aircraft_code',\n",
       " 'aircraft_country_id',\n",
       " 'aircraft_history',\n",
       " 'aircraft_images',\n",
       " 'aircraft_model',\n",
       " 'airline_iata',\n",
       " 'airline_icao',\n",
       " 'airline_name',\n",
       " 'airline_short_name',\n",
       " 'altitude',\n",
       " 'callsign',\n",
       " 'check_info',\n",
       " 'destination_airport_altitude',\n",
       " 'destination_airport_baggage',\n",
       " 'destination_airport_country_code',\n",
       " 'destination_airport_country_name',\n",
       " 'destination_airport_gate',\n",
       " 'destination_airport_iata',\n",
       " 'destination_airport_icao',\n",
       " 'destination_airport_latitude',\n",
       " 'destination_airport_longitude',\n",
       " 'destination_airport_name',\n",
       " 'destination_airport_terminal',\n",
       " 'destination_airport_timezone_abbr',\n",
       " 'destination_airport_timezone_abbr_name',\n",
       " 'destination_airport_timezone_name',\n",
       " 'destination_airport_timezone_offset',\n",
       " 'destination_airport_timezone_offset_hours',\n",
       " 'destination_airport_visible',\n",
       " 'destination_airport_website',\n",
       " 'get_altitude',\n",
       " 'get_distance_from',\n",
       " 'get_flight_level',\n",
       " 'get_ground_speed',\n",
       " 'get_heading',\n",
       " 'get_vertical_speed',\n",
       " 'ground_speed',\n",
       " 'heading',\n",
       " 'icao_24bit',\n",
       " 'id',\n",
       " 'latitude',\n",
       " 'longitude',\n",
       " 'number',\n",
       " 'on_ground',\n",
       " 'origin_airport_altitude',\n",
       " 'origin_airport_baggage',\n",
       " 'origin_airport_country_code',\n",
       " 'origin_airport_country_name',\n",
       " 'origin_airport_gate',\n",
       " 'origin_airport_iata',\n",
       " 'origin_airport_icao',\n",
       " 'origin_airport_latitude',\n",
       " 'origin_airport_longitude',\n",
       " 'origin_airport_name',\n",
       " 'origin_airport_terminal',\n",
       " 'origin_airport_timezone_abbr',\n",
       " 'origin_airport_timezone_abbr_name',\n",
       " 'origin_airport_timezone_name',\n",
       " 'origin_airport_timezone_offset',\n",
       " 'origin_airport_timezone_offset_hours',\n",
       " 'origin_airport_visible',\n",
       " 'origin_airport_website',\n",
       " 'registration',\n",
       " 'set_flight_details',\n",
       " 'squawk',\n",
       " 'status_icon',\n",
       " 'status_text',\n",
       " 'time',\n",
       " 'time_details',\n",
       " 'trail',\n",
       " 'vertical_speed']"
      ]
     },
     "execution_count": 92,
     "metadata": {},
     "output_type": "execute_result"
    }
   ],
   "source": [
    "dir(flight)"
   ]
  },
  {
   "cell_type": "code",
   "execution_count": null,
   "metadata": {},
   "outputs": [],
   "source": []
  }
 ],
 "metadata": {
  "kernelspec": {
   "display_name": "base",
   "language": "python",
   "name": "python3"
  },
  "language_info": {
   "codemirror_mode": {
    "name": "ipython",
    "version": 3
   },
   "file_extension": ".py",
   "mimetype": "text/x-python",
   "name": "python",
   "nbconvert_exporter": "python",
   "pygments_lexer": "ipython3",
   "version": "3.12.3"
  }
 },
 "nbformat": 4,
 "nbformat_minor": 2
}
